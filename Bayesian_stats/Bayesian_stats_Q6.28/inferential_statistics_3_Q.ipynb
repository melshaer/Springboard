{
  "nbformat": 4,
  "nbformat_minor": 0,
  "metadata": {
    "kernelspec": {
      "display_name": "Python 3",
      "language": "python",
      "name": "python3"
    },
    "language_info": {
      "codemirror_mode": {
        "name": "ipython",
        "version": 3
      },
      "file_extension": ".py",
      "mimetype": "text/x-python",
      "name": "python",
      "nbconvert_exporter": "python",
      "pygments_lexer": "ipython3",
      "version": "3.7.6"
    },
    "colab": {
      "name": "inferential_statistics_3-Q.ipynb",
      "provenance": [],
      "collapsed_sections": []
    }
  },
  "cells": [
    {
      "cell_type": "markdown",
      "metadata": {
        "id": "sMvtWoAvMAUG",
        "colab_type": "text"
      },
      "source": [
        "# Inferential Statistics III - Bayesian"
      ]
    },
    {
      "cell_type": "markdown",
      "metadata": {
        "id": "MLv7FR6FMAUP",
        "colab_type": "text"
      },
      "source": [
        "## Introduction"
      ]
    },
    {
      "cell_type": "markdown",
      "metadata": {
        "id": "hvN_bI1jMAUT",
        "colab_type": "text"
      },
      "source": [
        "In the last two subunits, you've encountered two schools for performing inference from samples. The Frequentist school calls upon a body of theory established over the past couple of centuries or so. Under certain assumptions and conditions, this allows us to calculate what we would expect to see if an experiment were to be repeated again and again and again. The expected value of the average of a sample is one such statistic we can calculate a result for, even if the originating distribution is far from normal. The bootstrap school, on the other hand, literally does (virtually) run that experiment again and again and again and empirically observes the multitude of outcomes. It then empirically calculates a statistic of interest. While this can be for exactly the same statistics that frequentism calculates (e.g. the mean of a sample) this empirical approach can also perform inference on statistics that do not have well known sampling distributions. Because of the requirement to repeat many, many redraws (with replacement) from the sample, this approach only became feasible with modern computing power.\n",
        "\n",
        "And thus we come to the Bayesian school of inference. Here we frame our probabilities not so much in terms of \"how many times would I expect this event to occur if the experiment were to be rerun many times\" but rather in terms of \"what is my belief in the likelihood of this event occurring?\" In a Bayesian probabilistic programming context, we can build models for systems and then let the data tell us how likely certain values for our model parameters are. This can be a very useful way to incorporate prior knowledge and deal with limited data. It can just be more than a _little_ fiddly to produce a good model!"
      ]
    },
    {
      "cell_type": "markdown",
      "metadata": {
        "id": "1ZyF44F9MAUW",
        "colab_type": "text"
      },
      "source": [
        "## Medical charge data set"
      ]
    },
    {
      "cell_type": "markdown",
      "metadata": {
        "id": "KiW7_MxCMAUY",
        "colab_type": "text"
      },
      "source": [
        "For the final mini-project of the stats unit, you'll once again return tot he medical charge data you've used for the other mini-projects. Previously, we considered whether we believed that the actual average(non-insured) charge had fallen below a certain threshold.\n",
        "\n",
        "The hospital is now reviewing its financial resiliency plan, which requires a model for revenue under a range of conditions that include the number of patients treated. Its current model is based on a confidence interval for the mean, and scaling that by different numbers of patients for each scenario. This approach has a number of limitations, most acutely the breakdown of the central limit theorem for low patient volumes; the current model does not do a good job of reflecting the variability in revenue you would see as the number of cases drops. A bootstrap approach would return samples of the same size as the original. Taking subsamples would restrict the sampling to the values already present in the original sample and would not do a good job of representing the actual variability you might see. What is needed is a better model of individual charges.\n",
        "\n",
        "So the problem here is that we want to model the distribution of individual charges and _we also really want to be able to capture our uncertainty about that distribution_ so we can better capture the range of values we might see. This naturally leads us to a powerful, probabilistic approach — we'll use the pymc3 library to perform Bayesian inference."
      ]
    },
    {
      "cell_type": "markdown",
      "metadata": {
        "id": "4v3XFH4qMAUb",
        "colab_type": "text"
      },
      "source": [
        "### Loading the data and performing an initial view"
      ]
    },
    {
      "cell_type": "code",
      "metadata": {
        "id": "TFBIlvf8MAUd",
        "colab_type": "code",
        "colab": {}
      },
      "source": [
        "import pymc3 as pm\n",
        "import pandas as pd\n",
        "import numpy as np\n",
        "from numpy.random import seed\n",
        "import matplotlib.pyplot as plt\n",
        "from scipy.stats import gamma\n",
        "from google.colab import drive\n",
        "# there has been some incompatibilty between theano and numpy, if you encounter\n",
        "# an error with the latest packages from anaconda, then the included\n",
        "# package-list-txt should allow you to create a conda environment with compatible\n",
        "# packages."
      ],
      "execution_count": 0,
      "outputs": []
    },
    {
      "cell_type": "code",
      "metadata": {
        "id": "5_AVXmH0MAUn",
        "colab_type": "code",
        "outputId": "0f5ad3d8-d51b-4fe7-ac78-6d6a60f6f077",
        "colab": {
          "base_uri": "https://localhost:8080/",
          "height": 124
        }
      },
      "source": [
        "drive.mount('/content/gdrive')\n",
        "medical = pd.read_csv('/content/gdrive/My Drive/Colab Notebooks/data/insurance2.csv')"
      ],
      "execution_count": 3,
      "outputs": [
        {
          "output_type": "stream",
          "text": [
            "Go to this URL in a browser: https://accounts.google.com/o/oauth2/auth?client_id=947318989803-6bn6qk8qdgf4n4g3pfee6491hc0brc4i.apps.googleusercontent.com&redirect_uri=urn%3aietf%3awg%3aoauth%3a2.0%3aoob&response_type=code&scope=email%20https%3a%2f%2fwww.googleapis.com%2fauth%2fdocs.test%20https%3a%2f%2fwww.googleapis.com%2fauth%2fdrive%20https%3a%2f%2fwww.googleapis.com%2fauth%2fdrive.photos.readonly%20https%3a%2f%2fwww.googleapis.com%2fauth%2fpeopleapi.readonly\n",
            "\n",
            "Enter your authorization code:\n",
            "··········\n",
            "Mounted at /content/gdrive\n"
          ],
          "name": "stdout"
        }
      ]
    },
    {
      "cell_type": "code",
      "metadata": {
        "id": "oPKZq4xKMAUt",
        "colab_type": "code",
        "outputId": "f4166ec2-f9ef-46cc-8b55-fccdbca40262",
        "colab": {
          "base_uri": "https://localhost:8080/",
          "height": 202
        }
      },
      "source": [
        "medical.head()"
      ],
      "execution_count": 4,
      "outputs": [
        {
          "output_type": "execute_result",
          "data": {
            "text/html": [
              "<div>\n",
              "<style scoped>\n",
              "    .dataframe tbody tr th:only-of-type {\n",
              "        vertical-align: middle;\n",
              "    }\n",
              "\n",
              "    .dataframe tbody tr th {\n",
              "        vertical-align: top;\n",
              "    }\n",
              "\n",
              "    .dataframe thead th {\n",
              "        text-align: right;\n",
              "    }\n",
              "</style>\n",
              "<table border=\"1\" class=\"dataframe\">\n",
              "  <thead>\n",
              "    <tr style=\"text-align: right;\">\n",
              "      <th></th>\n",
              "      <th>age</th>\n",
              "      <th>sex</th>\n",
              "      <th>bmi</th>\n",
              "      <th>children</th>\n",
              "      <th>smoker</th>\n",
              "      <th>region</th>\n",
              "      <th>charges</th>\n",
              "      <th>insuranceclaim</th>\n",
              "    </tr>\n",
              "  </thead>\n",
              "  <tbody>\n",
              "    <tr>\n",
              "      <th>0</th>\n",
              "      <td>19</td>\n",
              "      <td>0</td>\n",
              "      <td>27.900</td>\n",
              "      <td>0</td>\n",
              "      <td>1</td>\n",
              "      <td>3</td>\n",
              "      <td>16884.92400</td>\n",
              "      <td>1</td>\n",
              "    </tr>\n",
              "    <tr>\n",
              "      <th>1</th>\n",
              "      <td>18</td>\n",
              "      <td>1</td>\n",
              "      <td>33.770</td>\n",
              "      <td>1</td>\n",
              "      <td>0</td>\n",
              "      <td>2</td>\n",
              "      <td>1725.55230</td>\n",
              "      <td>1</td>\n",
              "    </tr>\n",
              "    <tr>\n",
              "      <th>2</th>\n",
              "      <td>28</td>\n",
              "      <td>1</td>\n",
              "      <td>33.000</td>\n",
              "      <td>3</td>\n",
              "      <td>0</td>\n",
              "      <td>2</td>\n",
              "      <td>4449.46200</td>\n",
              "      <td>0</td>\n",
              "    </tr>\n",
              "    <tr>\n",
              "      <th>3</th>\n",
              "      <td>33</td>\n",
              "      <td>1</td>\n",
              "      <td>22.705</td>\n",
              "      <td>0</td>\n",
              "      <td>0</td>\n",
              "      <td>1</td>\n",
              "      <td>21984.47061</td>\n",
              "      <td>0</td>\n",
              "    </tr>\n",
              "    <tr>\n",
              "      <th>4</th>\n",
              "      <td>32</td>\n",
              "      <td>1</td>\n",
              "      <td>28.880</td>\n",
              "      <td>0</td>\n",
              "      <td>0</td>\n",
              "      <td>1</td>\n",
              "      <td>3866.85520</td>\n",
              "      <td>1</td>\n",
              "    </tr>\n",
              "  </tbody>\n",
              "</table>\n",
              "</div>"
            ],
            "text/plain": [
              "   age  sex     bmi  children  smoker  region      charges  insuranceclaim\n",
              "0   19    0  27.900         0       1       3  16884.92400               1\n",
              "1   18    1  33.770         1       0       2   1725.55230               1\n",
              "2   28    1  33.000         3       0       2   4449.46200               0\n",
              "3   33    1  22.705         0       0       1  21984.47061               0\n",
              "4   32    1  28.880         0       0       1   3866.85520               1"
            ]
          },
          "metadata": {
            "tags": []
          },
          "execution_count": 4
        }
      ]
    },
    {
      "cell_type": "code",
      "metadata": {
        "id": "vm9hxxdvMAU4",
        "colab_type": "code",
        "colab": {}
      },
      "source": [
        "insurance = medical.charges[medical.insuranceclaim == 1]\n",
        "no_insurance = medical.charges[medical.insuranceclaim == 0]\n",
        "n_ins = len(insurance)\n",
        "n_no_ins = len(no_insurance)"
      ],
      "execution_count": 0,
      "outputs": []
    },
    {
      "cell_type": "code",
      "metadata": {
        "id": "_f59tAfFMAVD",
        "colab_type": "code",
        "outputId": "eb55eb24-63f6-4b7f-8d0a-2bafd500995e",
        "colab": {
          "base_uri": "https://localhost:8080/",
          "height": 279
        }
      },
      "source": [
        "_ = plt.hist(insurance, bins=30, alpha=0.5, label='insurance claim')\n",
        "_ = plt.hist(no_insurance, bins=30, alpha=0.5, label='not insurance claim')\n",
        "_ = plt.xlabel('Charge amount')\n",
        "_ = plt.ylabel('Frequency')\n",
        "_ = plt.legend()"
      ],
      "execution_count": 6,
      "outputs": [
        {
          "output_type": "display_data",
          "data": {
            "image/png": "[encoded data removed]",
            "text/plain": [
              "<Figure size 432x288 with 1 Axes>"
            ]
          },
          "metadata": {
            "tags": []
          }
        }
      ]
    },
    {
      "cell_type": "markdown",
      "metadata": {
        "id": "O0HRkp8CMAVL",
        "colab_type": "text"
      },
      "source": [
        "We may suspect from the above that there is some sort of exponential-like distribution at play here. The charges that were not insurance claims seem most like this. The insurance claim charges may possibly be multimodal. The gamma distribution may be applicable and we could test this for the distribution of charges that weren't insurance claims first. Developing our new method for the easiest looking case first is a common and sound approach that can demonstrate a minimum viable solution/product and get, or keep, stakeholders on board."
      ]
    },
    {
      "cell_type": "markdown",
      "metadata": {
        "id": "dNx-ybmSMAVP",
        "colab_type": "text"
      },
      "source": [
        "### Initial parameter estimation"
      ]
    },
    {
      "cell_type": "markdown",
      "metadata": {
        "id": "QYk1XtRnMAVR",
        "colab_type": "text"
      },
      "source": [
        "An initial guess for the gamma distribution's $\\alpha$ and $\\beta$ parameters can be made as described [here](https://wiki.analytica.com/index.php?title=Gamma_distribution)."
      ]
    },
    {
      "cell_type": "code",
      "metadata": {
        "id": "nJGBd6igMAVT",
        "colab_type": "code",
        "outputId": "801446d6-a19b-4400-ce77-9844b1ad01d3",
        "colab": {
          "base_uri": "https://localhost:8080/",
          "height": 35
        }
      },
      "source": [
        "alpha_est = np.mean(no_insurance)**2 / np.var(no_insurance)\n",
        "beta_est = np.var(no_insurance) / np.mean(no_insurance)\n",
        "alpha_est, beta_est"
      ],
      "execution_count": 7,
      "outputs": [
        {
          "output_type": "execute_result",
          "data": {
            "text/plain": [
              "(1.8759059725250857, 4702.486170152821)"
            ]
          },
          "metadata": {
            "tags": []
          },
          "execution_count": 7
        }
      ]
    },
    {
      "cell_type": "markdown",
      "metadata": {
        "id": "XFOTP4KBMAVb",
        "colab_type": "text"
      },
      "source": [
        "### Initial simulation"
      ]
    },
    {
      "cell_type": "markdown",
      "metadata": {
        "id": "Te9N1vkzMAVd",
        "colab_type": "text"
      },
      "source": [
        "Let's draw the same number of random variates from this distribution and compare to our observed data."
      ]
    },
    {
      "cell_type": "code",
      "metadata": {
        "id": "BC7k4h3UMAVe",
        "colab_type": "code",
        "colab": {}
      },
      "source": [
        "seed(47)\n",
        "no_ins_model_rvs = gamma(alpha_est, scale=beta_est).rvs(n_no_ins)"
      ],
      "execution_count": 0,
      "outputs": []
    },
    {
      "cell_type": "code",
      "metadata": {
        "id": "nG3_q6zQMAVn",
        "colab_type": "code",
        "outputId": "decf22f9-cb49-4efa-c524-7486b5fd4d5d",
        "colab": {
          "base_uri": "https://localhost:8080/",
          "height": 279
        }
      },
      "source": [
        "_ = plt.hist(no_ins_model_rvs, bins=30, alpha=0.5, label='simulated')\n",
        "_ = plt.hist(no_insurance, bins=30, alpha=0.5, label='observed')\n",
        "_ = plt.xlabel('Charge amount')\n",
        "_ = plt.ylabel('Frequency')\n",
        "_ = plt.legend()"
      ],
      "execution_count": 59,
      "outputs": [
        {
          "output_type": "display_data",
          "data": {
            "image/png": "[encoded data removed]",
            "text/plain": [
              "<Figure size 432x288 with 1 Axes>"
            ]
          },
          "metadata": {
            "tags": []
          }
        }
      ]
    },
    {
      "cell_type": "markdown",
      "metadata": {
        "id": "hNDD_f7nMAVs",
        "colab_type": "text"
      },
      "source": [
        "Well it doesn't look too bad! We're not a million miles off. But can we do better? We have a plausible form for the distribution of charge amounts and potential values for that distribution's parameters so we can already draw random variates from that distribution to perform simulations. But we don't know if we have a _best_ estimate for the population parameters, and we also only have a single estimate each for $\\alpha$ and $\\beta$; we aren't capturing our uncertainty in their values. Can we take a Bayesian inference approach to estimate the parameters?"
      ]
    },
    {
      "cell_type": "markdown",
      "metadata": {
        "id": "_uFeMqOZMAVu",
        "colab_type": "text"
      },
      "source": [
        "### Creating a PyMC3 model"
      ]
    },
    {
      "cell_type": "code",
      "metadata": {
        "id": "vE3wYtj5MAVw",
        "colab_type": "code",
        "outputId": "24ffdbea-297c-4518-bef6-a70d7df95319",
        "colab": {
          "base_uri": "https://localhost:8080/",
          "height": 35
        }
      },
      "source": [
        "# PyMC3 Gamma seems to use rate = 1/beta\n",
        "rate_est = 1/beta_est\n",
        "# Initial parameter estimates we'll use below\n",
        "alpha_est, rate_est"
      ],
      "execution_count": 10,
      "outputs": [
        {
          "output_type": "execute_result",
          "data": {
            "text/plain": [
              "(1.8759059725250857, 0.00021265346963636093)"
            ]
          },
          "metadata": {
            "tags": []
          },
          "execution_count": 10
        }
      ]
    },
    {
      "cell_type": "markdown",
      "metadata": {
        "id": "UDLsU2A_MAV2",
        "colab_type": "text"
      },
      "source": [
        "__Q:__ You are now going to create your own PyMC3 model!\n",
        "1. Use an [exponential](https://docs.pymc.io/api/distributions/continuous.html#pymc3.distributions.continuous.Exponential) prior for alpha. Call this stochastic variable `alpha_`.\n",
        "2. Similarly, use an exponential prior for the rate ([$1/\\beta$](https://wiki.analytica.com/index.php?title=Gamma_distribution)) parameter in PyMC3's [Gamma](https://docs.pymc.io/api/distributions/continuous.html#pymc3.distributions.continuous.Gamma). Call this stochastic variable `rate_` (but it will be supplied as `pm.Gamma`'s `beta` parameter). Hint: to set up a prior with an exponential distribution for $x$ where you have an initial estimate for $x$ of $x_0$, use a scale parameter of $1/x_0$.\n",
        "5. Create your Gamma distribution with your `alpha_` and `rate_` stochastic variables and the observed data.\n",
        "6. Perform 10000 draws."
      ]
    },
    {
      "cell_type": "markdown",
      "metadata": {
        "id": "jUwTSxNdMAV3",
        "colab_type": "text"
      },
      "source": [
        "Hint: you may find it helpful to work backwards. Start with your `pm.Gamma`, and note the required stochastic variables `alpha` and `beta`. Then, before that, you need to create those stochastic variables using `pm.Exponential` and the correct parameters."
      ]
    },
    {
      "cell_type": "markdown",
      "metadata": {
        "id": "NzhixZT-MAV5",
        "colab_type": "text"
      },
      "source": [
        "__A:__"
      ]
    },
    {
      "cell_type": "code",
      "metadata": {
        "scrolled": true,
        "id": "LbB96VBgMAV7",
        "colab_type": "code",
        "outputId": "d73733be-fa1a-423f-a912-9dbf01ce6dba",
        "colab": {
          "base_uri": "https://localhost:8080/",
          "height": 159
        }
      },
      "source": [
        "with pm.Model() as model:\n",
        "    alpha_ = pm.Exponential(\"alpha\", alpha_est)\n",
        "    rate_ = pm.Exponential(\"beta\", 1/beta_est)\n",
        "    data_gen = pm.Gamma(\"gamma_data\", alpha_, rate_, observed=no_insurance)\n",
        "    start = pm.find_MAP()\n",
        "    step = pm.NUTS()\n",
        "    trace = pm.sample(10000, step=step, start=start)"
      ],
      "execution_count": 60,
      "outputs": [
        {
          "output_type": "stream",
          "text": [
            "/usr/local/lib/python3.6/dist-packages/pymc3/tuning/starting.py:61: UserWarning: find_MAP should not be used to initialize the NUTS sampler, simply call pymc3.sample() and it will automatically initialize NUTS in a better way.\n",
            "  warnings.warn('find_MAP should not be used to initialize the NUTS sampler, simply call pymc3.sample() and it will automatically initialize NUTS in a better way.')\n",
            "logp = -5,526, ||grad|| = 5.3786: 100%|██████████| 35/35 [00:00<00:00, 1399.02it/s]  \n",
            "Sequential sampling (2 chains in 1 job)\n",
            "NUTS: [beta, alpha]\n",
            "100%|██████████| 10500/10500 [00:11<00:00, 951.18it/s]\n",
            "100%|██████████| 10500/10500 [00:10<00:00, 1047.16it/s]\n"
          ],
          "name": "stderr"
        }
      ]
    },
    {
      "cell_type": "markdown",
      "metadata": {
        "id": "DnsoEjb7MAWC",
        "colab_type": "text"
      },
      "source": [
        "If you get a warning about acceptance probability not matching the target, and that it's around 0.88 when it should be close to 0.8, don't worry. We encourage you to read up on this and see if you can adjust the parameters and/or arguments to pm.sample, but if your model runs without any additional warnings or errors then you should be doing great!"
      ]
    },
    {
      "cell_type": "markdown",
      "metadata": {
        "id": "CdWapULAMAWE",
        "colab_type": "text"
      },
      "source": [
        "__Q:__ Explore your posteriors for $\\alpha$ and $\\beta$ (from the trace).\n",
        "* Calculate the 95% credible interval for $\\alpha$ and $\\beta$.\n",
        "* Plot your posterior values of $\\alpha$ and $\\beta$ (both line plots and histograms). \n",
        "* Mark your CIs on the histograms.\n",
        "* Do they look okay? What would bad plots look like?"
      ]
    },
    {
      "cell_type": "markdown",
      "metadata": {
        "id": "ycnPHFheMAWG",
        "colab_type": "text"
      },
      "source": [
        "__A:__"
      ]
    },
    {
      "cell_type": "code",
      "metadata": {
        "id": "Ta63h6FOMAWI",
        "colab_type": "code",
        "colab": {}
      },
      "source": [
        "alpha = trace[\"alpha\"]\n",
        "beta = trace[\"beta\"]"
      ],
      "execution_count": 0,
      "outputs": []
    },
    {
      "cell_type": "code",
      "metadata": {
        "id": "NgICdbZOMAWM",
        "colab_type": "code",
        "outputId": "a56d9726-19ac-422e-cd40-838dbcd32ed5",
        "colab": {
          "base_uri": "https://localhost:8080/",
          "height": 52
        }
      },
      "source": [
        "ci_alpha = np.percentile(alpha, (2.5, 97.5))\n",
        "ci_beta = np.percentile(beta, (2.5, 97.5))\n",
        "print(ci_alpha)\n",
        "print(ci_beta)"
      ],
      "execution_count": 63,
      "outputs": [
        {
          "output_type": "stream",
          "text": [
            "[1.98486608 2.4683442 ]\n",
            "[0.00022165 0.00028362]\n"
          ],
          "name": "stdout"
        }
      ]
    },
    {
      "cell_type": "code",
      "metadata": {
        "id": "z9ddsZIxMAWT",
        "colab_type": "code",
        "outputId": "7f31bf67-56e6-4897-8add-3d15c1f8b4e9",
        "colab": {
          "base_uri": "https://localhost:8080/",
          "height": 301
        }
      },
      "source": [
        "ax = plt.subplot(211)\n",
        "plt.xlim(0, 3.5)\n",
        "plt.hist(alpha, histtype='stepfilled', bins=100, alpha=0.85,\n",
        "         label=\"posterior of $alpha$\", color=\"red\", density=True)\n",
        "plt.vlines(alpha_est, 0, 10, linestyle=\"--\", label=\"initial $alpha$\")\n",
        "plt.vlines(ci_alpha[0], 0, 10, color=\"black\", linestyle='-', label=\"$alpha$ confidence\")\n",
        "plt.vlines(ci_alpha[1], 0, 10, color=\"black\", linestyle='-')\n",
        "plt.legend(loc=\"upper left\")\n",
        "plt.title(\"Posterior distributions of $alpha$ and $beta$\")\n",
        "\n",
        "ax = plt.subplot(212)\n",
        "plt.xlim(0, 0.0005)\n",
        "plt.hist(beta, histtype='stepfilled', bins=100, alpha=0.85,\n",
        "         label=\"posterior of $beta$\", color=\"blue\", density=True)\n",
        "plt.vlines(rate_est, 0, 40000, linestyle=\"--\", label=\"initial $rate$\")\n",
        "plt.vlines(ci_beta[0], 0, 40000, color=\"black\", linestyle='-', label=\"$beta$ confidence\")\n",
        "plt.vlines(ci_beta[1], 0, 40000, color=\"black\", linestyle='-')\n",
        "plt.legend(loc=\"upper right\")"
      ],
      "execution_count": 64,
      "outputs": [
        {
          "output_type": "execute_result",
          "data": {
            "text/plain": [
              "<matplotlib.legend.Legend at 0x7fd9c5ea8748>"
            ]
          },
          "metadata": {
            "tags": []
          },
          "execution_count": 64
        },
        {
          "output_type": "display_data",
          "data": {
            "image/png": "[encoded data removed]",
            "text/plain": [
              "<Figure size 432x288 with 2 Axes>"
            ]
          },
          "metadata": {
            "tags": []
          }
        }
      ]
    },
    {
      "cell_type": "code",
      "metadata": {
        "id": "c1-hw5YOMAWb",
        "colab_type": "code",
        "outputId": "1bc93c36-be5a-4147-efd4-4f04578a14c8",
        "colab": {
          "base_uri": "https://localhost:8080/",
          "height": 301
        }
      },
      "source": [
        "ax = plt.subplot(211)\n",
        "plt.plot(alpha, color=\"red\")\n",
        "plt.title(\"Posterior distributions of $alpha$ and $beta$\")\n",
        "\n",
        "ax = plt.subplot(212)\n",
        "plt.plot(beta, color=\"blue\")"
      ],
      "execution_count": 65,
      "outputs": [
        {
          "output_type": "execute_result",
          "data": {
            "text/plain": [
              "[<matplotlib.lines.Line2D at 0x7fd9c5dd6e48>]"
            ]
          },
          "metadata": {
            "tags": []
          },
          "execution_count": 65
        },
        {
          "output_type": "display_data",
          "data": {
            "image/png": "[encoded data removed]",
            "text/plain": [
              "<Figure size 432x288 with 2 Axes>"
            ]
          },
          "metadata": {
            "tags": []
          }
        }
      ]
    },
    {
      "cell_type": "markdown",
      "metadata": {
        "id": "xn2PaxmQqCTb",
        "colab_type": "text"
      },
      "source": [
        "The initial estimates of the alpha and rate parameters were far from the sample mean of their posteriors."
      ]
    },
    {
      "cell_type": "markdown",
      "metadata": {
        "id": "yqpTGl5hMAWt",
        "colab_type": "text"
      },
      "source": [
        "__Q:__ Play around with some of the built-in diagnostic plots for your model. We suggest at least checking out the traceplot for alpha and beta. How do they look?"
      ]
    },
    {
      "cell_type": "markdown",
      "metadata": {
        "id": "8knxqfwfMAWv",
        "colab_type": "text"
      },
      "source": [
        "__A:__"
      ]
    },
    {
      "cell_type": "code",
      "metadata": {
        "id": "VM8U40pAMAWw",
        "colab_type": "code",
        "colab": {
          "base_uri": "https://localhost:8080/",
          "height": 301
        },
        "outputId": "696e526a-48d5-4229-90ef-bc3e3c476768"
      },
      "source": [
        "alpha_tr = trace[\"alpha\"][10000:20000]\n",
        "beta_tr = trace[\"beta\"][10000:20000]\n",
        "ax = plt.subplot(211)\n",
        "plt.plot(alpha_tr, color=\"red\")\n",
        "plt.title(\"Traceplots of last 10000 samples of $alpha$ and $beta$\")\n",
        "\n",
        "ax = plt.subplot(212)\n",
        "plt.plot(beta_tr, color=\"blue\")"
      ],
      "execution_count": 66,
      "outputs": [
        {
          "output_type": "execute_result",
          "data": {
            "text/plain": [
              "[<matplotlib.lines.Line2D at 0x7fd9c5d6b748>]"
            ]
          },
          "metadata": {
            "tags": []
          },
          "execution_count": 66
        },
        {
          "output_type": "display_data",
          "data": {
            "image/png": "[encoded data removed]",
            "text/plain": [
              "<Figure size 432x288 with 2 Axes>"
            ]
          },
          "metadata": {
            "tags": []
          }
        }
      ]
    },
    {
      "cell_type": "markdown",
      "metadata": {
        "id": "NoKRiMwVMAW6",
        "colab_type": "text"
      },
      "source": [
        "__Q:__ Take your best shot at a new simulated sequence of medical charges using scipy.stat's gamma distribution. Don't forget the difference between functions that take $\\beta$ and functions that use $1/\\beta$ for the scale parameter. Simulate a data set the same size as the number of observations in the data and overlay the two histograms (simulated and observed)."
      ]
    },
    {
      "cell_type": "markdown",
      "metadata": {
        "id": "n8FP_ogZMAW9",
        "colab_type": "text"
      },
      "source": [
        "__A:__"
      ]
    },
    {
      "cell_type": "code",
      "metadata": {
        "id": "gVbPObXPMAW_",
        "colab_type": "code",
        "colab": {
          "base_uri": "https://localhost:8080/",
          "height": 297
        },
        "outputId": "d9bd8068-7c7b-49ba-a080-447b8b7f6481"
      },
      "source": [
        "new_alpha_est = np.mean(alpha)\n",
        "new_beta_est = 1 / np.mean(beta)\n",
        "no_ins_model_new = gamma(new_alpha_est, scale=new_beta_est).rvs(n_no_ins)\n",
        "plt.hist(no_ins_model_new, bins=100, alpha=0.5, label='new simulated')\n",
        "plt.hist(no_insurance, bins=30, alpha=0.3, label='observed')\n",
        "plt.xlabel('Charge amount')\n",
        "plt.ylabel('Frequency')\n",
        "plt.legend()"
      ],
      "execution_count": 67,
      "outputs": [
        {
          "output_type": "execute_result",
          "data": {
            "text/plain": [
              "<matplotlib.legend.Legend at 0x7fd9c5cc6c18>"
            ]
          },
          "metadata": {
            "tags": []
          },
          "execution_count": 67
        },
        {
          "output_type": "display_data",
          "data": {
            "image/png": "[encoded data removed]",
            "text/plain": [
              "<Figure size 432x288 with 1 Axes>"
            ]
          },
          "metadata": {
            "tags": []
          }
        }
      ]
    },
    {
      "cell_type": "code",
      "metadata": {
        "scrolled": true,
        "id": "vNb04rpGMAXF",
        "colab_type": "code",
        "colab": {}
      },
      "source": [
        "seed(47)\n",
        "best_shot_simulated = None"
      ],
      "execution_count": 0,
      "outputs": []
    },
    {
      "cell_type": "markdown",
      "metadata": {
        "id": "XF8PGnfwMAXJ",
        "colab_type": "text"
      },
      "source": [
        "## Summary"
      ]
    },
    {
      "cell_type": "markdown",
      "metadata": {
        "id": "4HFrCedoMAXK",
        "colab_type": "text"
      },
      "source": [
        "In this exercise, we have postulated a distribution to describe the individual charge amounts for non-insured cases. This distribution has two required parameters, which we do not know, but we used PyMC3 to perform Bayesian inference to find our level of \"belief\" in a range of values for them. We then used the average parameter values to create one simulated data set of the same size as the original, but the distribution of our posteriors for these parameters will allow us to perform simulations of any sample size we desire and for a range of scenarios of different $\\alpha$ and $\\beta$. This could be a powerful tool to model different financial conditions for the hospital. \n",
        "\n",
        "Well done making it through this tricky subject. Starting think Bayesian _and_ starting to get to grips with something like PyMC3 is no easy task. As a data scientist, the most important thing is to be aware that this statistical approach exists, though you may not actually use this approach as much as you use the other approaches you've learned about. Still, we encourage you to think of ways that this approach could apply to the work that you do in this course and throughout your career.  "
      ]
    }
  ]
}